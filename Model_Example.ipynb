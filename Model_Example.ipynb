{
  "nbformat": 4,
  "nbformat_minor": 0,
  "metadata": {
    "colab": {
      "provenance": [],
      "machine_shape": "hm",
      "gpuType": "L4"
    },
    "kernelspec": {
      "name": "python3",
      "display_name": "Python 3"
    },
    "language_info": {
      "name": "python"
    },
    "accelerator": "GPU"
  },
  "cells": [
    {
      "cell_type": "code",
      "source": [
        "import re\n",
        "import random\n",
        "import matplotlib.pyplot as plt\n",
        "import pandas as pd\n",
        "import numpy as np\n",
        "import torch\n",
        "from torch.utils.data import Dataset\n",
        "import transformers\n",
        "from transformers import AutoModelForSequenceClassification, AutoTokenizer, Trainer, TrainingArguments, pipeline\n",
        "from transformers.data.processors.utils import InputFeatures\n"
      ],
      "metadata": {
        "id": "5WdPIdSa20JZ"
      },
      "execution_count": 35,
      "outputs": []
    },
    {
      "cell_type": "code",
      "source": [
        "if torch.cuda.is_available():\n",
        "    device = torch.device(\"cuda\")\n",
        "    print(f'There are {torch.cuda.device_count()} GPU(s) available.')\n",
        "    print('We will use the GPU:', torch.cuda.get_device_name(0))\n",
        "else:\n",
        "    print('No GPU available, using the CPU instead.')\n",
        "    device = torch.device(\"cpu\")"
      ],
      "metadata": {
        "colab": {
          "base_uri": "https://localhost:8080/"
        },
        "id": "6XYzQA3-FOKC",
        "outputId": "aa591eba-c5de-4196-cf57-e4afa0691d08"
      },
      "execution_count": 9,
      "outputs": [
        {
          "output_type": "stream",
          "name": "stdout",
          "text": [
            "No GPU available, using the CPU instead.\n"
          ]
        }
      ]
    },
    {
      "cell_type": "markdown",
      "source": [
        "#Model"
      ],
      "metadata": {
        "id": "kmGQxoSxAVkO"
      }
    },
    {
      "cell_type": "markdown",
      "source": [
        "##Uploading Model"
      ],
      "metadata": {
        "id": "BeAZ0XzlO67m"
      }
    },
    {
      "cell_type": "code",
      "source": [
        "!unzip /content/MarBert_Emotion2_tokenizer.zip"
      ],
      "metadata": {
        "colab": {
          "base_uri": "https://localhost:8080/"
        },
        "id": "O_-wBQrBCFyH",
        "outputId": "4d07cec9-5ad0-407e-cb6b-2ae5285fd320"
      },
      "execution_count": 4,
      "outputs": [
        {
          "output_type": "stream",
          "name": "stdout",
          "text": [
            "Archive:  /content/MarBert_Emotion2_tokenizer.zip\n",
            "   creating: MarBert_Emotion2_tokenizer/\n",
            "  inflating: MarBert_Emotion2_tokenizer/special_tokens_map.json  \n",
            "  inflating: MarBert_Emotion2_tokenizer/tokenizer.json  \n",
            "  inflating: MarBert_Emotion2_tokenizer/tokenizer_config.json  \n"
          ]
        }
      ]
    },
    {
      "cell_type": "code",
      "source": [
        "import torch\n",
        "\n",
        "# Load the entire model (architecture + weights)\n",
        "SaudiBERT = torch.load('/content/Saudi_Bert_Dialect4.pt')\n",
        "# Load the tokenizer\n",
        "SaudiBERT_tokenizer = AutoTokenizer.from_pretrained(\"/content/Saudi_Bert_Dialect2_tokenizer\")\n",
        "# pipeline\n",
        "SaudiBERT_pipeline = pipeline('text-classification', model=SaudiBERT, tokenizer=SaudiBERT_tokenizer)"
      ],
      "metadata": {
        "colab": {
          "base_uri": "https://localhost:8080/"
        },
        "id": "dMRqh1RjAyES",
        "outputId": "9a28dc97-c83f-4220-aee3-4fa0e525840f"
      },
      "execution_count": 6,
      "outputs": [
        {
          "output_type": "stream",
          "name": "stderr",
          "text": [
            "<ipython-input-6-32f58a174944>:4: FutureWarning: You are using `torch.load` with `weights_only=False` (the current default value), which uses the default pickle module implicitly. It is possible to construct malicious pickle data which will execute arbitrary code during unpickling (See https://github.com/pytorch/pytorch/blob/main/SECURITY.md#untrusted-models for more details). In a future release, the default value for `weights_only` will be flipped to `True`. This limits the functions that could be executed during unpickling. Arbitrary objects will no longer be allowed to be loaded via this mode unless they are explicitly allowlisted by the user via `torch.serialization.add_safe_globals`. We recommend you start setting `weights_only=True` for any use case where you don't have full control of the loaded file. Please open an issue on GitHub for any issues related to this experimental feature.\n",
            "  SaudiBERT = torch.load('/content/Saudi_Bert_Dialect4.pt')\n",
            "Hardware accelerator e.g. GPU is available in the environment, but no `device` argument is passed to the `Pipeline` object. Model will be on CPU.\n"
          ]
        }
      ]
    },
    {
      "cell_type": "code",
      "source": [
        "import torch\n",
        "\n",
        "# Load the entire model (architecture + weights)\n",
        "MarBERT = torch.load('/content/MarBert_Emotion4.pt')\n",
        "# Load the tokenizer\n",
        "MarBERT_tokenizer = AutoTokenizer.from_pretrained(\"/content/MarBert_Emotion2_tokenizer\")\n",
        "# pipeline\n",
        "MarBERT_pipeline = pipeline('text-classification', model=MarBERT, tokenizer=MarBERT_tokenizer)"
      ],
      "metadata": {
        "colab": {
          "base_uri": "https://localhost:8080/"
        },
        "id": "FRM-5jJzEaRJ",
        "outputId": "9a93dd87-2054-43f1-fea4-74ba41aca458"
      },
      "execution_count": 8,
      "outputs": [
        {
          "output_type": "stream",
          "name": "stderr",
          "text": [
            "<ipython-input-8-59f5f3b40ca1>:4: FutureWarning: You are using `torch.load` with `weights_only=False` (the current default value), which uses the default pickle module implicitly. It is possible to construct malicious pickle data which will execute arbitrary code during unpickling (See https://github.com/pytorch/pytorch/blob/main/SECURITY.md#untrusted-models for more details). In a future release, the default value for `weights_only` will be flipped to `True`. This limits the functions that could be executed during unpickling. Arbitrary objects will no longer be allowed to be loaded via this mode unless they are explicitly allowlisted by the user via `torch.serialization.add_safe_globals`. We recommend you start setting `weights_only=True` for any use case where you don't have full control of the loaded file. Please open an issue on GitHub for any issues related to this experimental feature.\n",
            "  MarBERT = torch.load('/content/MarBert_Emotion4.pt')\n",
            "Hardware accelerator e.g. GPU is available in the environment, but no `device` argument is passed to the `Pipeline` object. Model will be on CPU.\n"
          ]
        }
      ]
    },
    {
      "cell_type": "markdown",
      "source": [
        "##Function"
      ],
      "metadata": {
        "id": "lSfsSpOOO-Bx"
      }
    },
    {
      "cell_type": "code",
      "source": [
        "def predict(text):\n",
        "  Emotion_predictions = MarBERT_pipeline(text)\n",
        "  Dialect_predictions = SaudiBERT_pipeline(text)\n",
        "\n",
        "  # Extract 'label' values from each dictionary in the lists\n",
        "  emotion_labels = [pred['label'] for pred in Emotion_predictions]\n",
        "  dialect_labels = [pred['label'] for pred in Dialect_predictions]\n",
        "\n",
        "  # Combine the two predictions into a single array\n",
        "  combined_predictions =list(zip(emotion_labels, dialect_labels))\n",
        "\n",
        "  return combined_predictions"
      ],
      "metadata": {
        "id": "IIB2k_TkO_zU"
      },
      "execution_count": 24,
      "outputs": []
    },
    {
      "cell_type": "markdown",
      "source": [
        "##Preprocessing function"
      ],
      "metadata": {
        "id": "JTmhG0PF200q"
      }
    },
    {
      "cell_type": "code",
      "execution_count": 45,
      "metadata": {
        "id": "UrCKhuBTuYYb"
      },
      "outputs": [],
      "source": [
        "import re\n",
        "import pandas as pd\n",
        "\n",
        "class TextProcessor:\n",
        "    def __init__(self):\n",
        "        self.arabic_diacritics_pattern = re.compile(\"[\\u064B-\\u065F\\u0670\\u0615-\\u061A]\")\n",
        "        self.flag_mapping = {\n",
        "        '🇦🇫': 'أفغانستان',\n",
        "        '🇦🇱': 'ألبانيا',\n",
        "        '🇩🇿': 'الجزائر',\n",
        "        '🇦🇩': 'أندورا',\n",
        "        '🇦🇴': 'أنغولا',\n",
        "        '🇦🇬': 'أنتيغوا وبربودا',\n",
        "        '🇦🇷': 'الأرجنتين',\n",
        "        '🇦🇲': 'أرمينيا',\n",
        "        '🇦🇼': 'أروبا',\n",
        "        '🇦🇺': 'أستراليا',\n",
        "        '🇦🇹': 'النمسا',\n",
        "        '🇦🇿': 'أذربيجان',\n",
        "        '🇧🇸': 'الباهاما',\n",
        "        '🇧🇭': 'البحرين',\n",
        "        '🇧🇩': 'بنغلاديش',\n",
        "        '🇧🇧': 'بربادوس',\n",
        "        '🇧🇾': 'بيلاروسيا',\n",
        "        '🇧🇪': 'بلجيكا',\n",
        "        '🇧🇿': 'بليز',\n",
        "        '🇧🇯': 'بنين',\n",
        "        '🇧🇹': 'بوتان',\n",
        "        '🇧🇴': 'بوليفيا',\n",
        "        '🇧🇦': 'البوسنة والهرسك',\n",
        "        '🇧🇼': 'بوتسوانا',\n",
        "        '🇧🇷': 'البرازيل',\n",
        "        '🇧🇳': 'بروناي',\n",
        "        '🇧🇬': 'بلغاريا',\n",
        "        '🇧🇫': 'بوركينا فاسو',\n",
        "        '🇧🇮': 'بوروندي',\n",
        "        '🇰🇭': 'كمبوديا',\n",
        "        '🇨🇲': 'الكاميرون',\n",
        "        '🇨🇦': 'كندا',\n",
        "        '🇨🇻': 'الرأس الأخضر',\n",
        "        '🇰🇾': 'جزر كايمان',\n",
        "        '🇨🇫': 'جمهورية أفريقيا الوسطى',\n",
        "        '🇹🇩': 'تشاد',\n",
        "        '🇨🇱': 'تشيلي',\n",
        "        '🇨🇳': 'الصين',\n",
        "        '🇨🇴': 'كولومبيا',\n",
        "        '🇰🇲': 'جزر القمر',\n",
        "        '🇨🇬': 'الكونغو - برازافيل',\n",
        "        '🇨🇩': 'جمهورية الكونغو الديمقراطية',\n",
        "        '🇨🇰': 'جزر كوك',\n",
        "        '🇨🇷': 'كوستاريكا',\n",
        "        '🇭🇷': 'كرواتيا',\n",
        "        '🇨🇺': 'كوبا',\n",
        "        '🇨🇾': 'قبرص',\n",
        "        '🇨🇿': 'التشيك',\n",
        "        '🇩🇰': 'الدانمارك',\n",
        "        '🇩🇯': 'جيبوتي',\n",
        "        '🇩🇲': 'دومينيكا',\n",
        "        '🇩🇴': 'جمهورية الدومينيكان',\n",
        "        '🇪🇨': 'الإكوادور',\n",
        "        '🇪🇬': 'مصر',\n",
        "        '🇸🇻': 'السلفادور',\n",
        "        '🇬🇶': 'غينيا الاستوائية',\n",
        "        '🇪🇷': 'إريتريا',\n",
        "        '🇪🇪': 'إستونيا',\n",
        "        '🇪🇹': 'إثيوبيا',\n",
        "        '🇫🇯': 'فيجي',\n",
        "        '🇫🇮': 'فنلندا',\n",
        "        '🇫🇷': 'فرنسا',\n",
        "        '🇬🇦': 'الغابون',\n",
        "        '🇬🇲': 'غامبيا',\n",
        "        '🇬🇪': 'جورجيا',\n",
        "        '🇩🇪': 'ألمانيا',\n",
        "        '🇬🇭': 'غانا',\n",
        "        '🇬🇷': 'اليونان',\n",
        "        '🇬🇩': 'غرينادا',\n",
        "        '🇬🇹': 'غواتيمالا',\n",
        "        '🇬🇳': 'غينيا',\n",
        "        '🇬🇼': 'غينيا بيساو',\n",
        "        '🇬🇾': 'غيانا',\n",
        "        '🇭🇹': 'هايتي',\n",
        "        '🇭🇳': 'هندوراس',\n",
        "        '🇭🇺': 'المجر',\n",
        "        '🇮🇸': 'أيسلندا',\n",
        "        '🇮🇳': 'الهند',\n",
        "        '🇮🇩': 'إندونيسيا',\n",
        "        '🇮🇷': 'إيران',\n",
        "        '🇮🇶': 'العراق',\n",
        "        '🇮🇪': 'أيرلندا',\n",
        "        '🇮🇱': 'إسرائيل',\n",
        "        '🇮🇹': 'إيطاليا',\n",
        "        '🇯🇲': 'جامايكا',\n",
        "        '🇯🇵': 'اليابان',\n",
        "        '🇯🇴': 'الأردن',\n",
        "        '🇰🇿': 'كازاخستان',\n",
        "        '🇰🇪': 'كينيا',\n",
        "        '🇰🇮': 'كيريباتي',\n",
        "        '🇽🇰': 'كوسوفو',\n",
        "        '🇰🇼': 'الكويت',\n",
        "        '🇰🇬': 'قيرغيزستان',\n",
        "        '🇱🇦': 'لاوس',\n",
        "        '🇱🇻': 'لاتفيا',\n",
        "        '🇱🇧': 'لبنان',\n",
        "        '🇱🇸': 'ليسوتو',\n",
        "        '🇱🇷': 'ليبريا',\n",
        "        '🇱🇾': 'ليبيا',\n",
        "        '🇱🇮': 'ليختنشتاين',\n",
        "        '🇱🇹': 'ليتوانيا',\n",
        "        '🇱🇺': 'لوكسمبورغ',\n",
        "        '🇲🇰': 'مقدونيا الشمالية',\n",
        "        '🇲🇬': 'مدغشقر',\n",
        "        '🇲🇼': 'مالاوي',\n",
        "        '🇲🇾': 'ماليزيا',\n",
        "        '🇲🇻': 'جزر المالديف',\n",
        "        '🇲🇱': 'مالي',\n",
        "        '🇲🇹': 'مالطا',\n",
        "        '🇲🇭': 'جزر مارشال',\n",
        "        '🇲🇷': 'موريتانيا',\n",
        "        '🇲🇺': 'موريشيوس',\n",
        "        '🇲🇽': 'المكسيك',\n",
        "        '🇫🇲': 'ميكرونيزيا',\n",
        "        '🇲🇩': 'مولدوفا',\n",
        "        '🇲🇨': 'موناكو',\n",
        "        '🇲🇳': 'منغوليا',\n",
        "        '🇲🇪': 'الجبل الأسود',\n",
        "        '🇲🇦': 'المغرب',\n",
        "        '🇲🇿': 'موزمبيق',\n",
        "        '🇲🇲': 'ميانمار',\n",
        "        '🇳🇦': 'ناميبيا',\n",
        "        '🇳🇷': 'ناورو',\n",
        "        '🇳🇵': 'نيبال',\n",
        "        '🇳🇱': 'هولندا',\n",
        "        '🇳🇿': 'نيوزيلندا',\n",
        "        '🇳🇮': 'نيكاراجوا',\n",
        "        '🇳🇪': 'النيجر',\n",
        "        '🇳🇬': 'نيجيريا',\n",
        "        '🇰🇵': 'كوريا الشمالية',\n",
        "        '🇳🇴': 'النرويج',\n",
        "        '🇴🇴': 'جزر أورسي',\n",
        "        '🇵🇰': 'باكستان',\n",
        "        '🇵🇼': 'بالاو',\n",
        "        '🇵🇸': 'فلسطين',\n",
        "        '🇵🇦': 'بنما',\n",
        "        '🇵🇬': 'بابوا غينيا الجديدة',\n",
        "        '🇵🇾': 'باراغواي',\n",
        "        '🇵🇪': 'بيرو',\n",
        "        '🇵🇭': 'الفلبين',\n",
        "        '🇵🇱': 'بولندا',\n",
        "        '🇵🇹': 'البرتغال',\n",
        "        '🇶🇦': 'قطر',\n",
        "        '🇷🇴': 'رومانيا',\n",
        "        '🇷🇺': 'روسيا',\n",
        "        '🇷🇼': 'رواندا',\n",
        "        '🇰🇳': 'سانت كيتس ونيفيس',\n",
        "        '🇱🇨': 'سانت لوسيا',\n",
        "        '🇻🇨': 'سانت فينسنت والغرينادين',\n",
        "        '🇼🇸': 'ساموا',\n",
        "        '🇸🇲': 'سان مارينو',\n",
        "        '🇸🇹': 'ساو تومي وبرينسيبي',\n",
        "        '🇸🇦': 'السعودية',\n",
        "        '🇸🇳': 'السنغال',\n",
        "        '🇷🇸': 'صربيا',\n",
        "        '🇸🇨': 'سيشيل',\n",
        "        '🇸🇱': 'سيراليون',\n",
        "        '🇸🇬': 'سنغافورة',\n",
        "        '🇸🇰': 'سلوفاكيا',\n",
        "        '🇸🇮': 'سلوفينيا',\n",
        "        '🇸🇧': 'جزر سليمان',\n",
        "        '🇸🇴': 'الصومال',\n",
        "        '🇿🇦': 'جنوب أفريقيا',\n",
        "        '🇰🇷': 'كوريا الجنوبية',\n",
        "        '🇸🇸': 'جنوب السودان',\n",
        "        '🇪🇸': 'إسبانيا',\n",
        "        '🇱🇰': 'سريلانكا',\n",
        "        '🇸🇩': 'السودان',\n",
        "        '🇸🇷': 'سورينام',\n",
        "        '🇸🇿': 'سوازيلاند',\n",
        "        '🇸🇪': 'السويد',\n",
        "        '🇨🇭': 'سويسرا',\n",
        "        '🇸🇾': 'سوريا',\n",
        "        '🇹🇼': 'تايوان',\n",
        "        '🇹🇯': 'طاجيكستان',\n",
        "        '🇹🇿': 'تنزانيا',\n",
        "        '🇹🇭': 'تايلاند',\n",
        "        '🇹🇱': 'تيمور الشرقية',\n",
        "        '🇹🇬': 'توغو',\n",
        "        '🇹🇴': 'تونغا',\n",
        "        '🇹🇹': 'ترينيداد وتوباغو',\n",
        "        '🇹🇳': 'تونس',\n",
        "        '🇹🇷': 'تركيا',\n",
        "        '🇹🇲': 'تركمانستان',\n",
        "        '🇹🇻': 'توفالو',\n",
        "        '🇺🇬': 'أوغندا',\n",
        "        '🇺🇦': 'أوكرانيا',\n",
        "        '🇦🇪': 'الإمارات العربية المتحدة',\n",
        "        '🇬🇧': 'المملكة المتحدة',\n",
        "        '🇺🇸': 'الولايات المتحدة',\n",
        "        '🇺🇾': 'أوروغواي',\n",
        "        '🇺🇿': 'أوزبكستان',\n",
        "        '🇻🇺': 'فانواتو',\n",
        "        '🇻🇦': 'الفاتيكان',\n",
        "        '🇻🇪': 'فنزويلا',\n",
        "        '🇻🇳': 'فيتنام',\n",
        "        '🇾🇪': 'اليمن',\n",
        "        '🇿🇲': 'زامبيا',\n",
        "        '🇿🇼': 'زيمبابوي',\n",
        "    }\n",
        "        self.emoji_dict = None\n",
        "\n",
        "    def remove_arabic_diacritics(self, text):\n",
        "        return self.arabic_diacritics_pattern.sub('', text)\n",
        "\n",
        "    def remove_punc_characters(self, text):\n",
        "        english_pattern = re.compile(r'[#@&%$!\\(\\)\\{\\}[\\]:;.,،<>?؟`´''\"\"\\\"''\"\"\"\\[\\]=+/\\\\|`''°~^*_-]')\n",
        "        cleaned_text = re.sub(english_pattern, ' ', str(text))\n",
        "        return cleaned_text\n",
        "\n",
        "    def load_emoji_meanings(self):\n",
        "      emoji_data = pd.read_csv(\"/content/emoji lexicon.csv\", encoding='utf-8')\n",
        "      self.emoji_dict = dict(zip(emoji_data['emoji'], emoji_data['Meaning']))\n",
        "\n",
        "    def translate_emojis(self, text):\n",
        "        if self.emoji_dict is None:\n",
        "            raise ValueError(\"Emoji meanings have not been loaded. Call 'load_emoji_meanings' method first.\")\n",
        "\n",
        "        translated_text = \"\"\n",
        "        for char in text:\n",
        "            if char in self.emoji_dict:\n",
        "                translated_text += self.emoji_dict[char] + \" \"\n",
        "            else:\n",
        "                translated_text += char\n",
        "        return translated_text\n",
        "\n",
        "    def replace_flags(self, text):\n",
        "        for flag, country in self.flag_mapping.items():\n",
        "            text = text.replace(flag, f\"علم {country}\")\n",
        "        return text\n",
        "\n",
        "    def remove_non_arabic_characters(self, text):\n",
        "\n",
        "        arabic_pattern = re.compile(r'[^\\u0600-\\u06FF\\s]+')\n",
        "        cleaned_text = re.sub(arabic_pattern, '', text)\n",
        "        return cleaned_text\n",
        "\n",
        "    def remove_duplicate_characters(self, text):\n",
        "        cleaned_text = re.sub(r'(.)\\1{2,}', r'\\1', text)\n",
        "        return cleaned_text\n",
        "\n",
        "    def preprocess_text(self, texts):\n",
        "        if self.emoji_dict is None:\n",
        "            self.load_emoji_meanings()\n",
        "\n",
        "        processed_texts = []\n",
        "        for text in texts:\n",
        "            # Remove Arabic diacritics\n",
        "            text = self.remove_arabic_diacritics(text)\n",
        "            # Removing Punctuations\n",
        "            text = self.remove_punc_characters(text)\n",
        "            # Translate emoji\n",
        "            text = self.translate_emojis(text)\n",
        "            # Replace flag\n",
        "            text = self.replace_flags(text)\n",
        "            # Remove no Arabic characters\n",
        "            text = self.remove_non_arabic_characters(text)\n",
        "            # Remove duplicate characters\n",
        "            text = self.remove_duplicate_characters(text)\n",
        "            processed_texts.append(text)\n",
        "\n",
        "        return processed_texts"
      ]
    },
    {
      "cell_type": "markdown",
      "source": [
        "#Validation"
      ],
      "metadata": {
        "id": "u5nqVt9a9VmH"
      }
    },
    {
      "cell_type": "code",
      "source": [
        "def validate_and_process_texts(texts):\n",
        "    removedTexts = []\n",
        "    validtexts = []\n",
        "    if len(texts) > 1:\n",
        "        for index, text in enumerate(texts):\n",
        "            if not contains_arabic(text):\n",
        "                print(f\"Text {index + 1} is not valid: {text}\")\n",
        "                removedTexts.append(index)\n",
        "            else:\n",
        "                validtexts.append(text)\n",
        "        return validtexts, removedTexts\n",
        "    else:\n",
        "        if not contains_arabic(texts):\n",
        "            print(\"Text is not valid.\")\n",
        "            texts = []\n",
        "            return texts, removedTexts\n",
        "        return texts, removedTexts\n",
        "\n",
        "def contains_arabic(text):\n",
        "    return any('\\u0600' <= ch <= '\\u06FF' or '\\u0750' <= ch <= '\\u077F' or '\\u08A0' <= ch <= '\\u08FF' for ch in text)"
      ],
      "metadata": {
        "id": "5uYgGngQ20Ex"
      },
      "execution_count": 10,
      "outputs": []
    },
    {
      "cell_type": "markdown",
      "source": [
        "#Showing the result"
      ],
      "metadata": {
        "id": "2awP3iJr_Ey1"
      }
    },
    {
      "cell_type": "code",
      "source": [
        "import matplotlib.pyplot as plt\n",
        "\n",
        "def percentage(result):\n",
        "  NumberResult = len(result)\n",
        "  HAngerCount, HSadCount, HSurprisCount, HNeutralCount, HFearCount, HDisgustCount, HSarcasmCount, HhappyCount = 0, 0, 0, 0, 0, 0, 0, 0\n",
        "  SAngerCount, SSadCount, SSurprisCount, SNeutralCount, SFearCount, SDisgustCount, SSarcasmCount, ShappyCount = 0, 0, 0, 0, 0, 0, 0, 0\n",
        "  WAngerCount, WSadCount, WSurprisCount, WNeutralCount, WFearCount, WDisgustCount, WSarcasmCount, WhappyCount = 0, 0, 0, 0, 0, 0, 0, 0\n",
        "  AngerCount, SadCount, SurprisCount, NeutralCount, FearCount, DisgustCount, SarcasmCount, happyCount = 0, 0, 0, 0, 0, 0, 0, 0\n",
        "  HCount,WCount,SCount=0, 0, 0\n",
        "  counter=0\n",
        "\n",
        "  for i in range(NumberResult):\n",
        "    if result[i][1] == \"H\":\n",
        "      HCount+=1\n",
        "    elif result[i][1] == \"W\":\n",
        "      WCount+=1\n",
        "    elif result[i][1] == \"S\":\n",
        "      SCount+=1\n",
        "\n",
        "  for i in range(NumberResult):\n",
        "    if result[i][0] == \"surprise\":\n",
        "      SurprisCount+=1\n",
        "    elif result[i][0] == \"happiness\":\n",
        "      happyCount+=1\n",
        "    elif result[i][0] == \"anger\":\n",
        "      AngerCount+=1\n",
        "    elif result[i][0] == \"sadness\":\n",
        "      SadCount+=1\n",
        "    elif result[i][0] == \"Neutral\":\n",
        "      NeutralCount+=1\n",
        "    elif result[i][0] == \"fear\":\n",
        "      FearCount+=1\n",
        "    elif result[i][0] == \"disgust\":\n",
        "      DisgustCount+=1\n",
        "    elif result[i][0] == \"sarcasm\":\n",
        "      SarcasmCount+=1\n",
        "\n",
        "  for i in range(NumberResult):\n",
        "    if result[i][0] == \"surprise\" and result[i][1] == \"H\":\n",
        "      HSurprisCount+=1\n",
        "    elif result[i][0] == \"happiness\" and result[i][1] == \"H\":\n",
        "      happyCount+=1\n",
        "    elif result[i][0] == \"anger\" and result[i][1] == \"H\":\n",
        "      HAngerCount+=1\n",
        "    elif result[i][0] == \"sadness\" and result[i][1] == \"H\":\n",
        "      HSadCount+=1\n",
        "    elif result[i][0] == \"Neutral\" and result[i][1] == \"H\":\n",
        "      HNeutralCount+=1\n",
        "    elif result[i][0] == \"fear\" and result[i][1] == \"H\":\n",
        "      HFearCount+=1\n",
        "    elif result[i][0] == \"disgust\" and result[i][1] == \"H\":\n",
        "      HDisgustCount+=1\n",
        "    elif result[i][0] == \"sarcasm\" and result[i][1] == \"H\":\n",
        "      HSarcasmCount+=1\n",
        "\n",
        "    elif result[i][0] == \"surprise\" and result[i][1] == \"S\":\n",
        "      SSurprisCount+=1\n",
        "    elif result[i][0] == \"happiness\" and result[i][1] == \"S\":\n",
        "      ShappyCount+=1\n",
        "    elif result[i][0] == \"anger\" and result[i][1] == \"S\":\n",
        "      SAngerCount+=1\n",
        "    elif result[i][0] == \"sadness\" and result[i][1] == \"S\":\n",
        "      SSadCount+=1\n",
        "    elif result[i][0] == \"Neutral\" and result[i][1] == \"S\":\n",
        "      SNeutralCount+=1\n",
        "    elif result[i][0] == \"fear\" and result[i][1] == \"S\":\n",
        "      SFearCount+=1\n",
        "    elif result[i][0] == \"disgust\" and result[i][1] == \"S\":\n",
        "      SDisgustCount+=1\n",
        "    elif result[i][0] == \"sarcasm\" and result[i][1] == \"S\":\n",
        "      SSarcasmCount+=1\n",
        "\n",
        "    elif result[i][0] == \"surprise\" and result[i][1] == \"W\":\n",
        "      WSurprisCount+=1\n",
        "    elif result[i][0] == \"happiness\" and result[i][1] == \"W\":\n",
        "      WhappyCount+=1\n",
        "    elif result[i][0] == \"anger\" and result[i][1] == \"W\":\n",
        "      WAngerCount+=1\n",
        "    elif result[i][0] == \"sadness\" and result[i][1] == \"W\":\n",
        "      WSadCount+=1\n",
        "    elif result[i][0] == \"Neutral\" and result[i][1] == \"W\":\n",
        "      WNeutralCount+=1\n",
        "    elif result[i][0] == \"fear\" and result[i][1] == \"W\":\n",
        "      WFearCount+=1\n",
        "    elif result[i][0] == \"disgust\" and result[i][1] == \"W\":\n",
        "      WDisgustCount+=1\n",
        "    elif result[i][0] == \"sarcasm\" and result[i][1] == \"W\":\n",
        "      WSarcasmCount+=1\n",
        "\n",
        "  ##This will be showed in page: result.html in the first section\n",
        "  print(\"happiness: \", happyCount)\n",
        "  print(\"anger: \", AngerCount)\n",
        "  print(\"sadness: \", SadCount)\n",
        "  print(\"Neutral: \", NeutralCount)\n",
        "  print(\"fear: \", FearCount)\n",
        "  print(\"disgust: \", DisgustCount)\n",
        "  print(\"sarcasm: \", SarcasmCount)\n",
        "  print(\"surprise: \", SurprisCount)\n",
        "  print(\"Hejazi: \", HCount)\n",
        "  print(\"White: \", WCount)\n",
        "  print(\"South: \", SCount)\n",
        "\n",
        "\n",
        "  #computing the percentage for the Dialects\n",
        "  HCount2 = (HCount/NumberResult)*100\n",
        "  WCount2 = (WCount/NumberResult)*100\n",
        "  SCount2 = (SCount/NumberResult)*100\n",
        "\n",
        "  #computing the percentage for the emotions\n",
        "  SurprisCount = (SurprisCount / NumberResult) * 100\n",
        "  happyCount = (happyCount / NumberResult) * 100\n",
        "  AngerCount = (AngerCount / NumberResult) * 100\n",
        "  SadCount = (SadCount / NumberResult) * 100\n",
        "  NeutralCount = (NeutralCount / NumberResult) * 100\n",
        "  FearCount = (FearCount / NumberResult) * 100\n",
        "  DisgustCount = (DisgustCount / NumberResult) * 100\n",
        "  SarcasmCount = (SarcasmCount / NumberResult) * 100\n",
        "\n",
        "  if SCount != 0:\n",
        "    #computing the percentage for the emotions in South dialect\n",
        "    SSurprisCount = (SSurprisCount / SCount) * 100\n",
        "    ShappyCount = (ShappyCount / SCount) * 100\n",
        "    SAngerCount = (SAngerCount / SCount) * 100\n",
        "    SSadCount = (SSadCount / SCount) * 100\n",
        "    SNeutralCount = (SNeutralCount / SCount) * 100\n",
        "    SFearCount = (SFearCount / SCount) * 100\n",
        "    SDisgustCount = (SDisgustCount / SCount) * 100\n",
        "    SSarcasmCount = (SSarcasmCount / SCount) * 100\n",
        "\n",
        "    ## South pie Chart ##This will be showed in page: result.html in the third section\n",
        "    labels = ['anger', 'Neutral', 'sadness', 'fear', 'happiness', 'disgust', 'sarcasm', 'surprise']\n",
        "    sizes = [SAngerCount, SNeutralCount, SSadCount, SFearCount, ShappyCount, SDisgustCount, SSarcasmCount, SSurprisCount]\n",
        "    explode = (0.2, 0, 0, 0, 0, 0, 0, 0)\n",
        "    fig = plt.figure(figsize=(10, 5))\n",
        "    percent_labels = [f'{label} - {size:.1f}%' for label, size in zip(labels, sizes)]\n",
        "    colors = plt.cm.Blues(np.linspace(0.2, 1, len(labels)))\n",
        "    plt.pie(sizes, explode=explode, labels=None, startangle=140, colors=colors)\n",
        "    plt.axis('equal')\n",
        "    plt.title(\"Emotions in South Dialect\")\n",
        "    plt.legend(percent_labels, title=\"Dialects:\", loc='center right')\n",
        "    plt.show\n",
        "\n",
        "  else:\n",
        "    print(\"No South Dialect\")\n",
        "    # in the window you should make the pie chart in one color and print a text on the pie chart that says:\n",
        "    #النصوص التي أدخلتها لا تحتوي على هذه اللهجة\n",
        "\n",
        "  if HCount != 0:\n",
        "    #computing the percentage for the emotions in Hejazi dialect\n",
        "    HSurprisCount = (HSurprisCount / HCount) * 100\n",
        "    HhappyCount = (HhappyCount / HCount) * 100\n",
        "    HAngerCount = (HAngerCount / HCount) * 100\n",
        "    HSadCount = (HSadCount / HCount) * 100\n",
        "    HNeutralCount = (HNeutralCount / HCount) * 100\n",
        "    HFearCount = (HFearCount / HCount) * 100\n",
        "    HDisgustCount = (HDisgustCount / HCount) * 100\n",
        "    HSarcasmCount = (HSarcasmCount / HCount) * 100\n",
        "\n",
        "    ## Hejazi pie Chart ##This will be showed in page: result.html in the third section\n",
        "    labels = ['anger', 'Neutral', 'sadness', 'fear', 'happiness', 'disgust', 'sarcasm', 'surprise']\n",
        "    sizes = [HAngerCount, HNeutralCount, HSadCount, HFearCount, HhappyCount, HDisgustCount, HSarcasmCount, HSurprisCount]\n",
        "    explode = (0.2, 0, 0, 0, 0, 0, 0, 0)\n",
        "    fig = plt.figure(figsize=(10, 5))\n",
        "    percent_labels = [f'{label} - {size:.1f}%' for label, size in zip(labels, sizes)]\n",
        "    colors = plt.cm.Blues(np.linspace(0.2, 1, len(labels)))\n",
        "    plt.pie(sizes, explode=explode, labels=None, startangle=140, colors=colors)\n",
        "    plt.axis('equal')\n",
        "    plt.title(\"Emotions in Hejazi Dialect\")\n",
        "    plt.legend(percent_labels, title=\"Dialects:\", loc='center right')\n",
        "    plt.show\n",
        "\n",
        "  else:\n",
        "    print(\"No Hejazi Dialect\")\n",
        "    # in the window you should make the pie chart in one color and print a text on the pie chart that says:\n",
        "    #النصوص التي أدخلتها لا تحتوي على هذه اللهجة\n",
        "\n",
        "\n",
        "  if WCount != 0:\n",
        "    #computing the percentage for the emotions in White dialect\n",
        "    WSurprisCount = (WSurprisCount / WCount) * 100\n",
        "    WhappyCount = (WhappyCount / WCount) * 100\n",
        "    WAngerCount = (WAngerCount / WCount) * 100\n",
        "    WSadCount = (WSadCount / WCount) * 100\n",
        "    WNeutralCount = (WNeutralCount / WCount) * 100\n",
        "    WFearCount = (WFearCount / WCount) * 100\n",
        "    WDisgustCount = (WDisgustCount / WCount) * 100\n",
        "    WSarcasmCount = (WSarcasmCount / WCount) * 100\n",
        "\n",
        "    ## White pie Chart ##This will be showed in page: result.html in the third section\n",
        "    labels = ['anger', 'Neutral', 'sadness', 'fear', 'happiness', 'disgust', 'sarcasm', 'surprise']\n",
        "    sizes = [WAngerCount, WNeutralCount, WSadCount, WFearCount, WhappyCount, WDisgustCount, WSarcasmCount, WSurprisCount]\n",
        "    explode = (0.2, 0, 0, 0, 0, 0, 0, 0)\n",
        "    fig = plt.figure(figsize=(10, 5))\n",
        "    percent_labels = [f'{label} - {size:.1f}%' for label, size in zip(labels, sizes)]\n",
        "    # Define custom blue colormap\n",
        "    colors = plt.cm.Blues(np.linspace(0.2, 1, len(labels)))\n",
        "    plt.pie(sizes, explode=explode, labels=None, startangle=140, colors=colors)\n",
        "    plt.axis('equal')\n",
        "    plt.title(\"Emotions in White Dialect\")\n",
        "    plt.legend(percent_labels, title=\"Dialects:\", loc='center right')\n",
        "    plt.show()\n",
        "\n",
        "  else:\n",
        "    print(\"No White Dialect\")\n",
        "    # in the window it should make the pie chart in one color and print a text on the pie chart that says:\n",
        "    #النصوص التي أدخلتها لا تحتوي على هذه اللهجة\n",
        "\n",
        "\n",
        "  #Dialect pie chart ##This will be showed in page: result.html in the second section\n",
        "  labels = ['Hejazi','White','South']\n",
        "  sizes = [HCount2, WCount2, SCount2]  # percentages\n",
        "  #explode = (0.2, 0.3, 0.3)  # explode 1st slice\n",
        "  explode = (0.2,0,0)\n",
        "  fig = plt.figure(figsize=(10, 5))\n",
        "  percent_labels = [f'{label} - {size:.1f}%' for label, size in zip(labels, sizes)]\n",
        "  plt.pie(sizes, explode=explode, labels=None, startangle=140)\n",
        "  plt.axis('equal')  # Equal aspect ratio ensures that pie is drawn as a circle.\n",
        "  plt.title(\"Dialects\")\n",
        "  plt.legend(percent_labels,title = \"Dialects :\",loc='center right')\n",
        "  plt.show()\n",
        "\n",
        "\n",
        "\n",
        "\n",
        "  #Emotions pie chart ##This will be showed in page: result.html in the second section\n",
        "  labels = ['anger','Neutral','sadness','fear','happiness','disgust','sarcasm','suprise']\n",
        "  sizes = [AngerCount, NeutralCount, SadCount, FearCount,happyCount,DisgustCount,SarcasmCount,SurprisCount]  # percentages\n",
        "  #explode = (0.2, 0.3, 0.3, 0.3,0.3,0.3,0.3,0.2)  # explode 1st slice\n",
        "  explode = (0.2,0,0,0,0,0,0,0)\n",
        "  fig = plt.figure(figsize=(10, 5))\n",
        "  percent_labels = [f'{label} - {size:.1f}%' for label, size in zip(labels, sizes)]\n",
        "  plt.pie(sizes, explode=explode, labels=None, startangle=140)\n",
        "  plt.axis('equal')  # Equal aspect ratio ensures that pie is drawn as a circle.\n",
        "  plt.legend(percent_labels,title = \"Emotions :\",loc='center right')\n",
        "  plt.show()"
      ],
      "metadata": {
        "id": "xTir56Bu9cQ3"
      },
      "execution_count": 65,
      "outputs": []
    },
    {
      "cell_type": "markdown",
      "source": [
        "#Input function"
      ],
      "metadata": {
        "id": "boyMvWR1_tM5"
      }
    },
    {
      "cell_type": "code",
      "source": [
        "import csv\n",
        "\n",
        "def input_text(egy):\n",
        "    OldLength = len(egy)\n",
        "    texts, removedTexts = validate_and_process_texts(egy)\n",
        "    processor = TextProcessor()\n",
        "\n",
        "    if len(texts) == 0:\n",
        "      print(\"Try another text please. The text you entered is non-arabic\")\n",
        "    elif len(texts) == 1 and (OldLength == 1 or OldLength>1):\n",
        "      processed_text = processor.preprocess_text(texts)\n",
        "      results = predict(processed_text)\n",
        "\n",
        "      #Here The result will be showed in page: first.html\n",
        "      for i in len(results):\n",
        "        print(texts[i], \": \",results[i][0], results[i][1])\n",
        "\n",
        "\n",
        "    elif len(texts) < OldLength and OldLength > 1:\n",
        "      print(\"Note: there are some texts that are invalid so they were not predicted.\")\n",
        "      processed_text = processor.preprocess_text(texts)\n",
        "      results = predict(processed_text)\n",
        "      #Here the result will be showed in page: result.html\n",
        "      percentage(results)\n",
        "\n",
        "    elif len(texts) == OldLength and OldLength > 1:\n",
        "      processed_text = processor.preprocess_text(texts)\n",
        "      results = predict(processed_text)\n",
        "      #Here the result will be showed in page: result.html\n",
        "      percentage(results)\n"
      ],
      "metadata": {
        "id": "YgC_fLy6_6wC"
      },
      "execution_count": 64,
      "outputs": []
    },
    {
      "cell_type": "markdown",
      "source": [
        "#"
      ],
      "metadata": {
        "id": "uDen-k1mOmHI"
      }
    },
    {
      "cell_type": "markdown",
      "source": [
        "#Demo"
      ],
      "metadata": {
        "id": "lVR1jXOoNu_Q"
      }
    },
    {
      "cell_type": "code",
      "source": [
        "#This should happended in page : form.html\n",
        "text = [\"الحمدلله\", \"اهلا\", \" مرة زعلانة\"]\n",
        "\n",
        "result = input_text(text)\n"
      ],
      "metadata": {
        "colab": {
          "base_uri": "https://localhost:8080/",
          "height": 1000
        },
        "id": "fc000FasNw7l",
        "outputId": "777f0248-5e33-4bcc-d485-c96372f19b3c"
      },
      "execution_count": 66,
      "outputs": [
        {
          "output_type": "stream",
          "name": "stdout",
          "text": [
            "happiness:  0\n",
            "anger:  0\n",
            "sadness:  0\n",
            "Neutral:  3\n",
            "fear:  0\n",
            "disgust:  0\n",
            "sarcasm:  0\n",
            "surprise:  0\n",
            "Hejazi:  2\n",
            "White:  1\n",
            "South:  0\n",
            "No South Dialect\n"
          ]
        },
        {
          "output_type": "display_data",
          "data": {
            "text/plain": [
              "<Figure size 1000x500 with 1 Axes>"
            ],
            "image/png": "[encoded data removed]"
          },
          "metadata": {}
        },
        {
          "output_type": "display_data",
          "data": {
            "text/plain": [
              "<Figure size 1000x500 with 1 Axes>"
            ],
            "image/png": "[encoded data removed]"
          },
          "metadata": {}
        },
        {
          "output_type": "display_data",
          "data": {
            "text/plain": [
              "<Figure size 1000x500 with 1 Axes>"
            ],
            "image/png": "[encoded data removed]"
          },
          "metadata": {}
        },
        {
          "output_type": "display_data",
          "data": {
            "text/plain": [
              "<Figure size 1000x500 with 1 Axes>"
            ],
            "image/png": "[encoded data removed]"
          },
          "metadata": {}
        }
      ]
    },
    {
      "cell_type": "markdown",
      "source": [
        "#**To understand the flow of the system check the input_text function and check every function that (input_text) calls**"
      ],
      "metadata": {
        "id": "N2CwOLJCVeY9"
      }
    }
  ]
}